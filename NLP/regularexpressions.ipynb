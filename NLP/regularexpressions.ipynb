{
 "metadata": {
  "language_info": {
   "codemirror_mode": {
    "name": "ipython",
    "version": 3
   },
   "file_extension": ".py",
   "mimetype": "text/x-python",
   "name": "python",
   "nbconvert_exporter": "python",
   "pygments_lexer": "ipython3",
   "version": 3
  },
  "orig_nbformat": 2
 },
 "nbformat": 4,
 "nbformat_minor": 2,
 "cells": [
  {
   "source": [
    "# Regular Expressions\n",
    "\n",
    "```\n",
    "Pattern \ttype \t                matches\n",
    "X(?=Y) \t    Positive lookahead \t    X if followed by Y\n",
    "X(?!Y)   \tNegative lookahead \t    X if not followed by Y\n",
    "(?<=Y)X \tPositive lookbehind \tX if after Y\n",
    "(?<!Y)X \tNegative lookbehind \tX if not after Y\n",
    "```\n",
    "https://javascript.info/regexp-lookahead-lookbehind\n"
   ],
   "cell_type": "markdown",
   "metadata": {}
  },
  {
   "source": [
    "https://lzone.de/examples/Python%20re.sub"
   ],
   "cell_type": "markdown",
   "metadata": {}
  },
  {
   "source": [
    "## Look around\n"
   ],
   "cell_type": "markdown",
   "metadata": {}
  },
  {
   "cell_type": "code",
   "execution_count": null,
   "metadata": {},
   "outputs": [],
   "source": []
  }
 ]
}