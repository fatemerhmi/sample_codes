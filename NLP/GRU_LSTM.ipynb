{
 "metadata": {
  "language_info": {
   "codemirror_mode": {
    "name": "ipython",
    "version": 3
   },
   "file_extension": ".py",
   "mimetype": "text/x-python",
   "name": "python",
   "nbconvert_exporter": "python",
   "pygments_lexer": "ipython3",
   "version": "3.7.6-final"
  },
  "orig_nbformat": 2,
  "kernelspec": {
   "name": "python3",
   "display_name": "Python 3"
  }
 },
 "nbformat": 4,
 "nbformat_minor": 2,
 "cells": [
  {
   "source": [
    "WHY GRU or LSTM?      \n",
    "main reason: vanishing and exploding gradient\n",
    "\n",
    "\n",
    "**GRU:**\n",
    "* Gated Reccurent Unit\n",
    "* introduce concept of gate \n",
    "    * Allow the hidden layer to remember or forget certain values \n",
    "    \n",
    "\n",
    "**LSTM:**\n",
    "* complicated version of GRU\n",
    "* came way before GRU\n",
    "* 1997!\n",
    "* more parameters than GRU\n",
    "* A gate for everything\n",
    "\n",
    "Both mostly does the same but try both to see which one works better for your dataset. \n",
    "\n"
   ],
   "cell_type": "markdown",
   "metadata": {}
  },
  {
   "cell_type": "code",
   "execution_count": null,
   "metadata": {},
   "outputs": [],
   "source": []
  }
 ]
}