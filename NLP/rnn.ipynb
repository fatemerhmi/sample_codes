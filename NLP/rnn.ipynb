{
 "metadata": {
  "language_info": {
   "codemirror_mode": {
    "name": "ipython",
    "version": 3
   },
   "file_extension": ".py",
   "mimetype": "text/x-python",
   "name": "python",
   "nbconvert_exporter": "python",
   "pygments_lexer": "ipython3",
   "version": 3
  },
  "orig_nbformat": 2
 },
 "nbformat": 4,
 "nbformat_minor": 2,
 "cells": [
  {
   "source": [
    "RNN: Recurrent Neural Network\n",
    "\n",
    "Advantages:\n",
    "* less parameter compared to Feed Forward Neural Network\n",
    "* can work with Variable length sequence\n",
    "* Keras and tensorflow requires constant-length sequence . As they use numpy and it doesnot work with variable sequence length.\n",
    "* For implementation, must use list(for variant seq length).\n",
    "Disadvantage:\n",
    "* Choosing T (sequence length)\n",
    "    * set T to max length\n",
    "    * very long seq are rare\n",
    "    * alot of extra processign for multiplying so many zeros\n",
    "    "
   ],
   "cell_type": "markdown",
   "metadata": {}
  },
  {
   "cell_type": "code",
   "execution_count": null,
   "metadata": {},
   "outputs": [],
   "source": []
  }
 ]
}