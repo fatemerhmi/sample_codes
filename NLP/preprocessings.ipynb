{
 "metadata": {
  "language_info": {
   "codemirror_mode": {
    "name": "ipython",
    "version": 3
   },
   "file_extension": ".py",
   "mimetype": "text/x-python",
   "name": "python",
   "nbconvert_exporter": "python",
   "pygments_lexer": "ipython3",
   "version": "3.7.6-final"
  },
  "orig_nbformat": 2,
  "kernelspec": {
   "name": "python3",
   "display_name": "Python 3",
   "language": "python"
  }
 },
 "nbformat": 4,
 "nbformat_minor": 2,
 "cells": [
  {
   "cell_type": "code",
   "execution_count": 1,
   "metadata": {},
   "outputs": [
    {
     "output_type": "stream",
     "name": "stderr",
     "text": [
      "[nltk_data] Downloading package punkt to\n[nltk_data]     /users/grad/frahimi/nltk_data...\n[nltk_data]   Package punkt is already up-to-date!\n"
     ]
    },
    {
     "output_type": "execute_result",
     "data": {
      "text/plain": [
       "True"
      ]
     },
     "metadata": {},
     "execution_count": 1
    }
   ],
   "source": [
    "import nltk\n",
    "nltk.download('punkt')"
   ]
  },
  {
   "source": [
    "# NLP preprocessings"
   ],
   "cell_type": "markdown",
   "metadata": {}
  },
  {
   "source": [
    "## 1. stop words\n",
    " * [nltk stop words](https://www.geeksforgeeks.org/removing-stop-words-nltk-python/)"
   ],
   "cell_type": "markdown",
   "metadata": {}
  },
  {
   "cell_type": "code",
   "execution_count": 8,
   "metadata": {},
   "outputs": [
    {
     "output_type": "stream",
     "name": "stdout",
     "text": [
      "This sample sentence , showing stop words filtration .\n"
     ]
    }
   ],
   "source": [
    "import nltk\n",
    "# nltk.download('stopwords')\n",
    "from nltk.corpus import stopwords\n",
    "from nltk.tokenize import word_tokenize  \n",
    "\n",
    "example_sent = \"\"\"This is a sample sentence, \n",
    "                  showing off the stop words filtration.\"\"\"\n",
    "\n",
    "word_tokens = word_tokenize(example_sent)  \n",
    "# word_tokens\n",
    "stop_words = set(stopwords.words('english'))  \n",
    "filtered_sentence = [word for word in word_tokens if word not in stop_words]\n",
    "\n",
    "filtered_sentence = \" \".join(filtered_sentence)\n",
    "print(filtered_sentence)"
   ]
  },
  {
   "source": [
    "## 2. punctuation"
   ],
   "cell_type": "markdown",
   "metadata": {}
  },
  {
   "cell_type": "code",
   "execution_count": 3,
   "metadata": {},
   "outputs": [
    {
     "output_type": "execute_result",
     "data": {
      "text/plain": [
       "'hi how are     you wow 2345 '"
      ]
     },
     "metadata": {},
     "execution_count": 3
    }
   ],
   "source": [
    "import string\n",
    "sentence = \"hi; how*, @are^     you? wow. 23.45 !!!\"\n",
    "sentence = sentence.translate(sentence.maketrans('', '', string.punctuation))\n",
    "sentence"
   ]
  },
  {
   "cell_type": "code",
   "execution_count": 5,
   "metadata": {},
   "outputs": [
    {
     "output_type": "execute_result",
     "data": {
      "text/plain": [
       "'!\"#$%&\\'()*+,-./:;<=>?@[\\\\]^_`{|}~'"
      ]
     },
     "metadata": {},
     "execution_count": 5
    }
   ],
   "source": [
    "string.punctuation"
   ]
  },
  {
   "cell_type": "code",
   "execution_count": 4,
   "metadata": {},
   "outputs": [
    {
     "output_type": "stream",
     "name": "stdout",
     "text": [
      "hi how* are^ you wow 23.45\n"
     ]
    }
   ],
   "source": [
    "from nltk.tokenize import word_tokenize  \n",
    "import string\n",
    "sentence = \"hi; how*, @are^     you? wow. 23.45 !!!\"\n",
    "\n",
    "word_tokens = word_tokenize(sentence) \n",
    "filtered_sentence = [word for word in word_tokens if word not in string.punctuation]\n",
    "\n",
    "filtered_sentence = \" \".join(filtered_sentence)\n",
    "print(filtered_sentence)"
   ]
  },
  {
   "source": [
    "Something to notice here is that the second one actually respected the floating point while the first one just removed and changed he number"
   ],
   "cell_type": "markdown",
   "metadata": {}
  },
  {
   "cell_type": "code",
   "execution_count": 8,
   "metadata": {},
   "outputs": [
    {
     "output_type": "execute_result",
     "data": {
      "text/plain": [
       "'string With Punctuation 32'"
      ]
     },
     "metadata": {},
     "execution_count": 8
    }
   ],
   "source": [
    "import re\n",
    "s = \"string. With. Punctuation? 3.2\"\n",
    "s = re.sub(r'[^\\w\\s]','',s)\n",
    "print(s)"
   ]
  },
  {
   "cell_type": "code",
   "execution_count": 10,
   "metadata": {},
   "outputs": [
    {
     "output_type": "execute_result",
     "data": {
      "text/plain": [
       "'This is a 1example of the text But it only is 2.5 percent of all data'"
      ]
     },
     "metadata": {},
     "execution_count": 10
    }
   ],
   "source": [
    "regex = r\"(?<!\\d)[.,;:](?!\\d)\"\n",
    "\n",
    "test_str = \"This is a 1example of the text. But, it only is 2.5 percent of all data\"\n",
    "\n",
    "result = re.sub(regex, \"\", test_str, 0)\n",
    "\n",
    "result"
   ]
  },
  {
   "source": [
    "## 3. Remove non alphabetic characters"
   ],
   "cell_type": "markdown",
   "metadata": {}
  },
  {
   "cell_type": "code",
   "execution_count": null,
   "metadata": {},
   "outputs": [],
   "source": [
    "import re\n",
    "sentence = re.sub('[^A-Za-z]', ' ', sentence)"
   ]
  },
  {
   "cell_type": "code",
   "execution_count": null,
   "metadata": {},
   "outputs": [],
   "source": [
    "# code from: https://gist.github.com/MrEliptik/b3f16179aa2f530781ef8ca9a16499af\n",
    "import unicodedata\n",
    "def remove_non_ascii(words):\n",
    "    \"\"\"Remove non-ASCII characters from list of tokenized words\"\"\"\n",
    "    new_words = []\n",
    "    for word in words:\n",
    "        new_word = unicodedata.normalize('NFKD', word).encode('ascii', 'ignore').decode('utf-8', 'ignore')\n",
    "        new_words.append(new_word)\n",
    "    return new_words"
   ]
  },
  {
   "source": [
    "## 4. Remove URLs"
   ],
   "cell_type": "markdown",
   "metadata": {}
  },
  {
   "cell_type": "code",
   "execution_count": 37,
   "metadata": {},
   "outputs": [
    {
     "output_type": "stream",
     "name": "stdout",
     "text": [
      "text1\ntext2\ntext3\ntext4 text5\ntext6\n\n"
     ]
    }
   ],
   "source": [
    "import re\n",
    "\n",
    "text= \"\"\"text1\n",
    "text2\n",
    "http://url.com/bla1/blah1/\n",
    "text3\n",
    "text4 http://url.com/bla1/blah1/\n",
    "http://url.com/bla2/blah2/\n",
    "text5\n",
    "text6\n",
    "http://url.com/bla3/blah3/ \"\"\"\n",
    "\n",
    "\n",
    "# remove hyperlinks\n",
    "text = re.sub(r'https?:\\/\\/.*[\\r\\n]*', '', text)\n",
    "print(text)\n",
    "# import re\n",
    "# def remove_urls (vTEXT):\n",
    "#     vTEXT = re.sub(r'(https|http)?:\\/\\/(\\w|\\.|\\/|\\?|\\=|\\&|\\%)*\\b', '', vTEXT, flags=re.MULTILINE)\n",
    "#     return(vTEXT)\n",
    "# print(remove_urls(text))\n",
    "# text = re.sub(r'^https?:\\/\\/.*[\\r\\n]*', '', text, flags=re.​MULTILINE)\n",
    "# text = re.sub(r'(https?:\\/\\/)(\\s)*(www\\.)?(\\s)*((\\w|\\s)+\\.)*([\\w\\-\\s]+\\/)*([\\w\\-]+)((\\?)?[\\w\\s]*=\\s*[\\w\\%&]*)*', '', text, flags=re.MULTILINE)\n",
    "# print(text)\n",
    "\n",
    "\n",
    "# import re \n",
    "# text = re.sub(r'^https?:\\/\\/.*[\\r\\n]*', '', text, flags=re.​MULTILINE)"
   ]
  },
  {
   "source": [
    "## 5. Stemming\n",
    "* to reduce the vocabulary"
   ],
   "cell_type": "markdown",
   "metadata": {}
  },
  {
   "cell_type": "code",
   "execution_count": null,
   "metadata": {},
   "outputs": [],
   "source": []
  },
  {
   "source": [
    "## 6. lower"
   ],
   "cell_type": "markdown",
   "metadata": {}
  },
  {
   "cell_type": "code",
   "execution_count": null,
   "metadata": {},
   "outputs": [],
   "source": [
    "def text_lower()"
   ]
  },
  {
   "source": [
    "## 7. contractions\n",
    "* words or combinations of words which are shortened by dropping letters and replacing them by an apostrophe\n",
    "* we’re = we are; we’ve = we have; I’d = I would\n",
    "* [more examples](https://en.wikipedia.org/wiki/Wikipedia:List_of_English_contractions)\n",
    "\n",
    "*  “pycontractions” package is computationally more expensive (source)[https://medium.com/@lukei_3514/dealing-with-contractions-in-nlp-d6174300876b]\n",
    "\n",
    "libraries:\n",
    "* [pycontractions](https://pypi.org/project/pycontractions/)\n",
    "  * [github](https://github.com/ian-beaver/pycontractions)\n",
    "* [contractions library repo](https://github.com/kootenpv/contractions)"
   ],
   "cell_type": "markdown",
   "metadata": {}
  },
  {
   "cell_type": "code",
   "execution_count": 34,
   "metadata": {},
   "outputs": [
    {
     "output_type": "execute_result",
     "data": {
      "text/plain": [
       "'you are the best we will'"
      ]
     },
     "metadata": {},
     "execution_count": 34
    }
   ],
   "source": [
    "import contractions\n",
    "\n",
    "def replace_contractions(text):\n",
    "    \"\"\"Replace contractions in string of text\"\"\"\n",
    "    return contractions.fix(text)\n",
    "\n",
    "sample = \"you're the best we'll\"         \n",
    "sample = replace_contractions(sample)\n",
    "sample"
   ]
  },
  {
   "cell_type": "code",
   "execution_count": null,
   "metadata": {},
   "outputs": [],
   "source": [
    "#pip install --upgrade language-check (needs java)\n",
    "#pip install pycontractions\n",
    "\n",
    "from pycontractions import Contractions\n",
    "cont = Contractions(api_key=\"glove-twitter-25\")\n",
    "\n",
    "list(cont.expand_texts([\"I'd like to know how I'd done that!\",\n",
    "                            \"We're going to the zoo and I don't think I'll be home for dinner.\",\n",
    "                            \"Theyre going to the zoo and she'll be home for dinner.\"], precise=True))"
   ]
  },
  {
   "source": [
    "## 8.replace numbers\n",
    "[code](https://gist.github.com/MrEliptik/b3f16179aa2f530781ef8ca9a16499af)"
   ],
   "cell_type": "markdown",
   "metadata": {}
  },
  {
   "cell_type": "code",
   "execution_count": null,
   "metadata": {},
   "outputs": [],
   "source": [
    "import inflect\n",
    "def replace_numbers(words):\n",
    "    \"\"\"Replace all interger occurrences in list of tokenized words with textual representation\"\"\"\n",
    "    p = inflect.engine()\n",
    "    new_words = []\n",
    "    for word in words:\n",
    "        if word.isdigit():\n",
    "            new_word = p.number_to_words(word)\n",
    "            new_words.append(new_word)\n",
    "        else:\n",
    "            new_words.append(word)\n",
    "    return new_words"
   ]
  },
  {
   "source": [
    "## 9. Lemmatization"
   ],
   "cell_type": "markdown",
   "metadata": {}
  },
  {
   "cell_type": "code",
   "execution_count": null,
   "metadata": {},
   "outputs": [],
   "source": [
    "from nltk.stem import WordNetLemmatizer\n",
    "\n",
    "def lemmatize_verbs(words):\n",
    "    \"\"\"Lemmatize verbs in list of tokenized words\"\"\"\n",
    "    lemmatizer = WordNetLemmatizer()\n",
    "    lemmas = []\n",
    "    for word in words:\n",
    "        lemma = lemmatizer.lemmatize(word, pos='v')\n",
    "        lemmas.append(lemma)\n",
    "    return lemmas"
   ]
  },
  {
   "source": [
    "## 10. stemming"
   ],
   "cell_type": "markdown",
   "metadata": {}
  },
  {
   "cell_type": "code",
   "execution_count": null,
   "metadata": {},
   "outputs": [],
   "source": [
    "from nltk.stem import LancasterStemmer\n",
    "\n",
    "def stem_words(words):\n",
    "    \"\"\"Stem words in list of tokenized words\"\"\"\n",
    "    stemmer = LancasterStemmer()\n",
    "    stems = []\n",
    "    for word in words:\n",
    "        stem = stemmer.stem(word)\n",
    "        stems.append(stem)\n",
    "    return stems"
   ]
  },
  {
   "source": [
    "* [PorterStemmer module](https://www.nltk.org/api/nltk.stem.html#module-nltk.stem.porter)\n",
    "* uses the [Porter Stemming Algorithm](https://tartarus.org/martin/PorterStemmer/)\n"
   ],
   "cell_type": "markdown",
   "metadata": {}
  },
  {
   "cell_type": "code",
   "execution_count": null,
   "metadata": {},
   "outputs": [],
   "source": [
    "# Instantiate stemming class\n",
    "from nltk.stem import PorterStemmer \n",
    "\n",
    "def stem_words(words):\n",
    "    \"\"\"Stem words in list of tokenized words\"\"\"\n",
    "    stemmer = PorterStemmer() \n",
    "    stems = []\n",
    "    for word in words:\n",
    "        stem = stemmer.stem(word)\n",
    "        stems.append(stem)\n",
    "    return stems"
   ]
  },
  {
   "source": [
    "## 11. Check for duplicates and droping them"
   ],
   "cell_type": "markdown",
   "metadata": {}
  },
  {
   "cell_type": "code",
   "execution_count": null,
   "metadata": {},
   "outputs": [],
   "source": [
    "#checking:\n",
    "\n",
    "print('Unique title: ', df.title.nunique() == df.shape[0])\n",
    "print(\"No. of unique titles:\", df.title.nunique(), \"   non unique: \", len(df)-df.title.nunique(), \"\\n\")"
   ]
  },
  {
   "cell_type": "code",
   "execution_count": null,
   "metadata": {},
   "outputs": [],
   "source": [
    "# for a pandas dataframe\n",
    "df.drop_duplicates('review', inplace=True)"
   ]
  },
  {
   "source": [
    "## 12. Removing space from the beginng and end of strings\n",
    "\n",
    "Often becomes necessary when concatinating columns with empty string"
   ],
   "cell_type": "markdown",
   "metadata": {}
  },
  {
   "cell_type": "code",
   "execution_count": null,
   "metadata": {},
   "outputs": [],
   "source": [
    "df['titledesc'] = df.apply(lambda row: row['title']+\" \"+ row['desc'], axis=1)\n",
    "df['titledesc'] = df['titledesc'].str.strip()"
   ]
  },
  {
   "source": [
    "## 13. Check for Nan values\n",
    "If there are couple of text columns, some might be Nan, you might need to replace them with empty string"
   ],
   "cell_type": "markdown",
   "metadata": {}
  },
  {
   "cell_type": "code",
   "execution_count": null,
   "metadata": {},
   "outputs": [],
   "source": [
    "df.replace(np.nan, \"\", inplace=True)\n",
    "\n",
    "print(\"# of Nan values in title:\", df.title.isna().sum())\n",
    "print(\"# of Nan values in desc:\", df.desc.isna().sum())"
   ]
  },
  {
   "source": [
    "## 14. replace more than one space, tab, newline to a space"
   ],
   "cell_type": "markdown",
   "metadata": {}
  },
  {
   "cell_type": "code",
   "execution_count": null,
   "metadata": {},
   "outputs": [],
   "source": [
    "#in pandas\n",
    "df['title'] = df.title.str.replace(r'[\\s+\\t+\\n+]', ' ')\n",
    "df['desc'] = df.desc.str.replace(r'[\\s+\\t+\\n+]', ' ')"
   ]
  }
 ]
}