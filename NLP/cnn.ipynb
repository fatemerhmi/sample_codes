{
 "metadata": {
  "language_info": {
   "codemirror_mode": {
    "name": "ipython",
    "version": 3
   },
   "file_extension": ".py",
   "mimetype": "text/x-python",
   "name": "python",
   "nbconvert_exporter": "python",
   "pygments_lexer": "ipython3",
   "version": 3
  },
  "orig_nbformat": 2,
  "kernelspec": {
   "name": "python_defaultSpec_1596556554547",
   "display_name": "Python 3.7.6 64-bit"
  }
 },
 "nbformat": 4,
 "nbformat_minor": 2,
 "cells": [
  {
   "cell_type": "code",
   "execution_count": 1,
   "metadata": {},
   "outputs": [],
   "source": [
    "import zipfile\n",
    "import os"
   ]
  },
  {
   "cell_type": "markdown",
   "metadata": {},
   "source": [
    "# Data\n",
    "Kaggle Toxic Comment Classification Challenge\n",
    "https://www.kaggle.com/c/jigsaw-toxic-comment-classification-challenge/data\n"
   ]
  },
  {
   "cell_type": "code",
   "execution_count": 8,
   "metadata": {},
   "outputs": [],
   "source": [
    "# 1. Kaggle api installation: \n",
    "# https://github.com/Kaggle/kaggle-api\n",
    "\n",
    "# 2. Download the data\n",
    "os.system('cd ../data; kaggle competitions download -c jigsaw-toxic-comment-classification-challenge')\n",
    "\n",
    "# 3. unzip the data\n",
    "path_to_zip_file = \"../data/jigsaw-toxic-comment-classification-challenge.zip\"\n",
    "directory_to_extract_to = \"../data\"\n",
    "with zipfile.ZipFile(path_to_zip_file, 'r') as zip_ref:\n",
    "    zip_ref.extractall(directory_to_extract_to)"
   ]
  },
  {
   "cell_type": "markdown",
   "metadata": {},
   "source": [
    "CNNs = convolutional neural netowrk"
   ]
  }
 ]
}