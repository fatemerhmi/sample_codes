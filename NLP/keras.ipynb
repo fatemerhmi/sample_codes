{
 "cells": [
  {
   "cell_type": "markdown",
   "metadata": {},
   "source": [
    "Using word embeddings in Kreas:\n",
    "\n",
    "To fine-tune:     \n",
    "```embedding_layer.trainable = True```     \n",
    "to keep it constant:      \n",
    "```embeddin_layer.trainable = False```"
   ]
  },
  {
   "cell_type": "markdown",
   "metadata": {},
   "source": [
    "Multi label Architecture\n",
    "```\n",
    "x = output from previous layers\n",
    "output = Dense(6, activation= 'sigmoid')(x)\n",
    "\n",
    "model = Model(inputs, outputs)\n",
    "model.compile('binary_cross_entropy')\n",
    "```"
   ]
  },
  {
   "cell_type": "markdown",
   "metadata": {},
   "source": [
    "basic feed forward in keras:\n",
    "https://github.com/lazyprogrammer/machine_learning_examples/blob/master/ann_class2/keras_example.py"
   ]
  },
  {
   "cell_type": "code",
   "execution_count": null,
   "metadata": {},
   "outputs": [],
   "source": []
  }
 ],
 "metadata": {
  "kernelspec": {
   "display_name": "Python 3",
   "language": "python",
   "name": "python3"
  },
  "language_info": {
   "codemirror_mode": {
    "name": "ipython",
    "version": 3
   },
   "file_extension": ".py",
   "mimetype": "text/x-python",
   "name": "python",
   "nbconvert_exporter": "python",
   "pygments_lexer": "ipython3",
   "version": "3.7.6"
  }
 },
 "nbformat": 4,
 "nbformat_minor": 4
}