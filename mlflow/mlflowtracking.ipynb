{
 "cells": [
  {
   "cell_type": "markdown",
   "metadata": {
    "colab_type": "text",
    "id": "Tcv85tVhIq9B"
   },
   "source": [
    "# MLflow Tracking\n",
    "*  API and UI for logging parameters, code versions, metrics, and output files when running your machine learning code and for later visualizing the results\n",
    "* MLflow Tracking lets you log and query experiments using Python, REST, R API, and Java API APIs"
   ]
  },
  {
   "cell_type": "markdown",
   "metadata": {
    "colab_type": "text",
    "id": "O_HMeUF1IvoW"
   },
   "source": [
    "## 1. Concepts\n",
    "MLflow Tracking is organized around the concept of runs.\n",
    "\n",
    "Each run record these information:\n",
    "* Start and End Time\n",
    "* Source (name of the file you launch the run)\n",
    "* Parameters      \n",
    "Key-value input parameters of your choice      \n",
    "Both keys and values are strings\n",
    "* Metrics     \n",
    "Key-value metrics    \n",
    "value is numeric  \n",
    "Each metric can be updated throughout the course of the run (for example, to track how your model’s loss function is converging), and MLflow records and lets you visualize the metric’s full history.\n",
    "* Artifacts    \n",
    "Output files in any format      \n",
    "For example: images (PNGs), models (a pickled scikit-learn model), and data files (a Parquet file) as artifacts.\n",
    "\n",
    "\n"
   ]
  },
  {
   "cell_type": "markdown",
   "metadata": {
    "colab_type": "text",
    "id": "N4SoW_0OIzaH"
   },
   "source": [
    "## 2. Where Runs are recorded?\n",
    "MLflow runs can be recorded to local files, to a SQLAlchemy compatible database, or remotely to a tracking server.\n",
    "\n",
    "By default, the MLflow Python API logs runs locally to files in an mlruns directory wherever you ran your program.\n",
    "\n",
    "You can then run mlflow ui to see the logged runs."
   ]
  },
  {
   "cell_type": "markdown",
   "metadata": {
    "colab_type": "text",
    "id": "XuRGsjKYI6oZ"
   },
   "source": [
    "## 3. Log Data to Runs (MLflow Python)\n",
    "3.1 Logging Functions\n",
    "\n",
    "3.2 Launching Multiple Runs in One Program\n",
    "\n",
    "3.3 Performance Tracking with Metrics\n",
    "\n",
    "3.4 Visualizing Metrics"
   ]
  },
  {
   "cell_type": "markdown",
   "metadata": {
    "colab_type": "text",
    "id": "n77y26ocNfwq"
   },
   "source": []
  },
  {
   "cell_type": "markdown",
   "metadata": {
    "colab_type": "text",
    "id": "mh8SgwnII_TC"
   },
   "source": [
    "## 4. Organizing Runs in Experiments"
   ]
  },
  {
   "cell_type": "markdown",
   "metadata": {
    "colab_type": "text",
    "id": "9Lm98ynvJLDB"
   },
   "source": [
    "## 5. Tracking UI\n",
    "[viewing the tracking UI](https://www.mlflow.org/docs/latest/quickstart.html#viewing-the-tracking-ui)\n",
    "\n",
    "On server: \n",
    "\n",
    "Bash->     env/bin/mlflow ui --host $(hostname -f) \n",
    "\n",
    "Then it outputs a url with http:// at the begininig. \n",
    "\n",
    "Remove the http (keep the ip and port) \n",
    "\n",
    "Put the ip and port in a local terminal in the following format: \n",
    "\n",
    " \n",
    "\n",
    "Local bash->     ssh -L <localport>:<ip>:<port> frahimi@cluster.computecanada.ca"
   ]
  },
  {
   "cell_type": "code",
   "execution_count": null,
   "metadata": {},
   "outputs": [],
   "source": []
  },
  {
   "cell_type": "code",
   "execution_count": 1,
   "metadata": {},
   "outputs": [],
   "source": [
    "tracking_uri = 'mlruns/'\n",
    "experiment_name = \"mltest0\"\n",
    "run_name = 'run1'"
   ]
  },
  {
   "cell_type": "code",
   "execution_count": 2,
   "metadata": {
    "colab": {
     "base_uri": "https://localhost:8080/",
     "height": 35
    },
    "colab_type": "code",
    "executionInfo": {
     "elapsed": 1234,
     "status": "ok",
     "timestamp": 1599592039213,
     "user": {
      "displayName": "Fatemeh Rahimi",
      "photoUrl": "https://lh3.googleusercontent.com/a-/AOh14GgiIPmO3uzCLVsiQVblP4W1c4qj3-XpxbhpaPBi=s64",
      "userId": "09649316258388689485"
     },
     "user_tz": 180
    },
    "id": "qOCCekVQsvv0",
    "outputId": "8d69734a-f6ca-400b-e3ca-35bc567304ea",
    "tags": []
   },
   "outputs": [
    {
     "output_type": "stream",
     "name": "stdout",
     "text": "Running mlflow_tracking.py\n"
    }
   ],
   "source": [
    "import os\n",
    "from random import random, randint\n",
    "\n",
    "from mlflow import log_metric, log_param, log_artifacts\n",
    "import mlflow\n",
    "\n",
    "mlflow.set_tracking_uri(tracking_uri)\n",
    "mlflow.set_experiment(experiment_name)\n",
    "\n",
    "# with mlflow.start_run(run_name='arima_param'):\n",
    "mlflow.start_run(run_name=run_name, nested=True)\n",
    "\n",
    "print(\"Running mlflow_tracking.py\")\n",
    "\n",
    "log_param(\"param1\", randint(0, 100))\n",
    "\n",
    "log_metric(\"foo\", random())\n",
    "log_metric(\"foo\", random() + 1)\n",
    "log_metric(\"foo\", random() + 2)\n",
    "\n",
    "if not os.path.exists(\"outputs\"):\n",
    "    os.makedirs(\"outputs\")\n",
    "with open(\"outputs/test.txt\", \"w\") as f:\n",
    "    f.write(\"hello world!\")\n",
    "\n",
    "log_artifacts(\"outputs\")\n",
    "\n",
    "mlflow.end_run()"
   ]
  },
  {
   "cell_type": "markdown",
   "metadata": {
    "colab_type": "text",
    "id": "ybnDDHEpIkp1"
   },
   "source": []
  }
 ],
 "metadata": {
  "colab": {
   "authorship_tag": "ABX9TyMrH/WNNmB/sAeLLR1hbiz2",
   "collapsed_sections": [],
   "name": "mlflowtracking.ipynb",
   "provenance": []
  },
  "kernelspec": {
   "display_name": "Python 3",
   "language": "python",
   "name": "python3"
  },
  "language_info": {
   "codemirror_mode": {
    "name": "ipython",
    "version": 3
   },
   "file_extension": ".py",
   "mimetype": "text/x-python",
   "name": "python",
   "nbconvert_exporter": "python",
   "pygments_lexer": "ipython3",
   "version": "3.7.6-final"
  }
 },
 "nbformat": 4,
 "nbformat_minor": 1
}