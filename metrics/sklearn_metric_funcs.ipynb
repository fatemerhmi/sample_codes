{
 "metadata": {
  "language_info": {
   "codemirror_mode": {
    "name": "ipython",
    "version": 3
   },
   "file_extension": ".py",
   "mimetype": "text/x-python",
   "name": "python",
   "nbconvert_exporter": "python",
   "pygments_lexer": "ipython3",
   "version": "3.7.6-final"
  },
  "orig_nbformat": 2,
  "kernelspec": {
   "name": "python3",
   "display_name": "Python 3",
   "language": "python"
  }
 },
 "nbformat": 4,
 "nbformat_minor": 2,
 "cells": [
  {
   "source": [
    "To figure out if sklearn is looking at labels a binary, multi-class, or multi-label:"
   ],
   "cell_type": "markdown",
   "metadata": {}
  },
  {
   "cell_type": "code",
   "execution_count": 1,
   "metadata": {},
   "outputs": [
    {
     "output_type": "execute_result",
     "data": {
      "text/plain": [
       "'continuous'"
      ]
     },
     "metadata": {},
     "execution_count": 1
    }
   ],
   "source": [
    "import numpy as np\n",
    "\n",
    "from sklearn.utils.multiclass import type_of_target\n",
    "\n",
    "type_of_target([0.1, 0.6])"
   ]
  },
  {
   "cell_type": "code",
   "execution_count": 2,
   "metadata": {},
   "outputs": [
    {
     "output_type": "execute_result",
     "data": {
      "text/plain": [
       "'binary'"
      ]
     },
     "metadata": {},
     "execution_count": 2
    }
   ],
   "source": [
    "type_of_target([1, -1, -1, 1])"
   ]
  },
  {
   "cell_type": "code",
   "execution_count": 3,
   "metadata": {},
   "outputs": [
    {
     "output_type": "execute_result",
     "data": {
      "text/plain": [
       "'binary'"
      ]
     },
     "metadata": {},
     "execution_count": 3
    }
   ],
   "source": [
    "type_of_target(['a', 'b', 'a'])"
   ]
  },
  {
   "cell_type": "code",
   "execution_count": 4,
   "metadata": {},
   "outputs": [
    {
     "output_type": "execute_result",
     "data": {
      "text/plain": [
       "'binary'"
      ]
     },
     "metadata": {},
     "execution_count": 4
    }
   ],
   "source": [
    "type_of_target([1.0, 2.0])"
   ]
  },
  {
   "cell_type": "code",
   "execution_count": 5,
   "metadata": {},
   "outputs": [
    {
     "output_type": "execute_result",
     "data": {
      "text/plain": [
       "'multiclass'"
      ]
     },
     "metadata": {},
     "execution_count": 5
    }
   ],
   "source": [
    "type_of_target([1, 0, 2])"
   ]
  },
  {
   "cell_type": "code",
   "execution_count": 6,
   "metadata": {},
   "outputs": [
    {
     "output_type": "execute_result",
     "data": {
      "text/plain": [
       "'multiclass'"
      ]
     },
     "metadata": {},
     "execution_count": 6
    }
   ],
   "source": [
    "type_of_target([1.0, 0.0, 3.0])"
   ]
  },
  {
   "cell_type": "code",
   "execution_count": 7,
   "metadata": {},
   "outputs": [
    {
     "output_type": "execute_result",
     "data": {
      "text/plain": [
       "'multiclass'"
      ]
     },
     "metadata": {},
     "execution_count": 7
    }
   ],
   "source": [
    "type_of_target(['a', 'b', 'c'])"
   ]
  },
  {
   "cell_type": "code",
   "execution_count": 8,
   "metadata": {},
   "outputs": [
    {
     "output_type": "execute_result",
     "data": {
      "text/plain": [
       "'multiclass-multioutput'"
      ]
     },
     "metadata": {},
     "execution_count": 8
    }
   ],
   "source": [
    "type_of_target(np.array([[1, 2], [3, 1]]))"
   ]
  },
  {
   "cell_type": "code",
   "execution_count": 9,
   "metadata": {},
   "outputs": [
    {
     "output_type": "execute_result",
     "data": {
      "text/plain": [
       "'multilabel-indicator'"
      ]
     },
     "metadata": {},
     "execution_count": 9
    }
   ],
   "source": [
    "type_of_target([[1, 2]])"
   ]
  },
  {
   "cell_type": "code",
   "execution_count": 10,
   "metadata": {},
   "outputs": [
    {
     "output_type": "execute_result",
     "data": {
      "text/plain": [
       "'continuous-multioutput'"
      ]
     },
     "metadata": {},
     "execution_count": 10
    }
   ],
   "source": [
    "type_of_target(np.array([[1.5, 2.0], [3.0, 1.6]]))"
   ]
  },
  {
   "cell_type": "code",
   "execution_count": 12,
   "metadata": {},
   "outputs": [
    {
     "output_type": "execute_result",
     "data": {
      "text/plain": [
       "'multilabel-indicator'"
      ]
     },
     "metadata": {},
     "execution_count": 12
    }
   ],
   "source": [
    "type_of_target(np.array([[0, 1], [1, 1]]))"
   ]
  },
  {
   "cell_type": "code",
   "execution_count": null,
   "metadata": {},
   "outputs": [],
   "source": []
  }
 ]
}