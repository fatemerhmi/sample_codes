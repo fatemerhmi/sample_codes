{
 "metadata": {
  "language_info": {
   "codemirror_mode": {
    "name": "ipython",
    "version": 3
   },
   "file_extension": ".py",
   "mimetype": "text/x-python",
   "name": "python",
   "nbconvert_exporter": "python",
   "pygments_lexer": "ipython3",
   "version": "3.7.6-final"
  },
  "orig_nbformat": 2,
  "kernelspec": {
   "name": "python3",
   "display_name": "Python 3",
   "language": "python"
  }
 },
 "nbformat": 4,
 "nbformat_minor": 2,
 "cells": [
  {
   "cell_type": "code",
   "execution_count": 1,
   "metadata": {},
   "outputs": [],
   "source": [
    "import numpy as np\n"
   ]
  },
  {
   "source": [
    "# Multi-label Classification Metrics"
   ],
   "cell_type": "markdown",
   "metadata": {}
  },
  {
   "cell_type": "code",
   "execution_count": 2,
   "metadata": {},
   "outputs": [],
   "source": [
    "y_true = np.array([[0,1,0],\n",
    "                   [0,1,1],\n",
    "                   [1,0,1],\n",
    "                   [0,0,1]])\n",
    "\n",
    "y_pred = np.array([[0,1,1],\n",
    "                   [0,1,1],\n",
    "                   [0,1,0],\n",
    "                   [0,0,0]])"
   ]
  },
  {
   "source": [
    "## 1. Accuracy (Hamming score)"
   ],
   "cell_type": "markdown",
   "metadata": {}
  },
  {
   "cell_type": "code",
   "execution_count": 3,
   "metadata": {},
   "outputs": [
    {
     "output_type": "stream",
     "name": "stdout",
     "text": [
      "Hamming score: 0.375\n"
     ]
    }
   ],
   "source": [
    "def hamming_score(y_true, y_pred, normalize=True, sample_weight=None):\n",
    "    '''\n",
    "    Compute the Hamming score (a.k.a. label-based accuracy) for the multi-label case\n",
    "    http://stackoverflow.com/q/32239577/395857\n",
    "    '''\n",
    "    acc_list = []\n",
    "    for i in range(y_true.shape[0]):\n",
    "        set_true = set( np.where(y_true[i])[0] )\n",
    "        set_pred = set( np.where(y_pred[i])[0] )\n",
    "        #print('\\nset_true: {0}'.format(set_true))\n",
    "        #print('set_pred: {0}'.format(set_pred))\n",
    "        tmp_a = None\n",
    "        if len(set_true) == 0 and len(set_pred) == 0:\n",
    "            tmp_a = 1\n",
    "        else:\n",
    "            tmp_a = len(set_true.intersection(set_pred))/\\\n",
    "                    float( len(set_true.union(set_pred)) )\n",
    "        #print('tmp_a: {0}'.format(tmp_a))\n",
    "        acc_list.append(tmp_a)\n",
    "    return np.mean(acc_list)\n",
    "\n",
    "\n",
    "print('Hamming score: {0}'.format(hamming_score(y_true, y_pred))) # 0.375 (= (0.5+1+0+0)/4)\n"
   ]
  },
  {
   "source": [
    "## 2. Subset Accuracy (Exact Match Ratio (MR))\n"
   ],
   "cell_type": "markdown",
   "metadata": {}
  },
  {
   "cell_type": "code",
   "execution_count": 4,
   "metadata": {},
   "outputs": [
    {
     "output_type": "stream",
     "name": "stdout",
     "text": [
      "Subset accuracy: 0.25\n"
     ]
    }
   ],
   "source": [
    "import sklearn.metrics\n",
    "\n",
    "# Subset accuracy\n",
    "# 0.25 (= 0+1+0+0 / 4) --> 1 if the prediction for one sample fully matches the gold. 0 otherwise.\n",
    "print('Subset accuracy: {0}'.format(sklearn.metrics.accuracy_score(y_true, y_pred, normalize=True, sample_weight=None)))"
   ]
  },
  {
   "source": [
    "## 3. zero one loss"
   ],
   "cell_type": "markdown",
   "metadata": {}
  },
  {
   "cell_type": "code",
   "execution_count": 6,
   "metadata": {},
   "outputs": [
    {
     "output_type": "stream",
     "name": "stdout",
     "text": [
      "zero one loss: 0.75\n"
     ]
    }
   ],
   "source": [
    "from sklearn.metrics import zero_one_loss\n",
    "print(\"zero one loss:\", zero_one_loss(y_true, y_pred))\n"
   ]
  },
  {
   "source": [
    "## 4. Hamming Loss"
   ],
   "cell_type": "markdown",
   "metadata": {}
  },
  {
   "cell_type": "code",
   "execution_count": 5,
   "metadata": {},
   "outputs": [
    {
     "output_type": "stream",
     "name": "stdout",
     "text": [
      "Hamming loss: 0.4166666666666667\n"
     ]
    }
   ],
   "source": [
    "# Hamming loss (smaller is better)\n",
    "# $$ \\text{HammingLoss}(x_i, y_i) = \\frac{1}{|D|} \\sum_{i=1}^{|D|} \\frac{xor(x_i, y_i)}{|L|}, $$\n",
    "# where\n",
    "#  - \\\\(|D|\\\\) is the number of samples  \n",
    "#  - \\\\(|L|\\\\) is the number of labels  \n",
    "#  - \\\\(y_i\\\\) is the ground truth  \n",
    "#  - \\\\(x_i\\\\)  is the prediction.  \n",
    "# 0.416666666667 (= (1+0+3+1) / (3*4) )\n",
    "print('Hamming loss: {0}'.format(sklearn.metrics.hamming_loss(y_true, y_pred)))"
   ]
  },
  {
   "cell_type": "code",
   "execution_count": null,
   "metadata": {},
   "outputs": [],
   "source": []
  }
 ]
}