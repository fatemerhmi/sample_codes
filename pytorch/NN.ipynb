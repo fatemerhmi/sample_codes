{
 "metadata": {
  "language_info": {
   "codemirror_mode": {
    "name": "ipython",
    "version": 3
   },
   "file_extension": ".py",
   "mimetype": "text/x-python",
   "name": "python",
   "nbconvert_exporter": "python",
   "pygments_lexer": "ipython3",
   "version": 3
  },
  "orig_nbformat": 2
 },
 "nbformat": 4,
 "nbformat_minor": 2,
 "cells": [
  {
   "cell_type": "code",
   "execution_count": null,
   "metadata": {},
   "outputs": [],
   "source": [
    "mport torch\n",
    "import torch.nn as nn\n",
    "import torch.optim as optim\n",
    "from torch.autograd import Variable\n",
    "\n",
    "# Let's make some data for a linear regression.\n",
    "A = 3.1415926\n",
    "b = 2.7189351\n",
    "error = 0.1\n",
    "N = 100 # number of data points\n",
    "\n",
    "# Data\n",
    "X = Variable(torch.randn(N, 1))\n",
    "\n",
    "# (noisy) Target values that we want to learn.\n",
    "t = A * X + b + Variable(torch.randn(N, 1) * error)\n",
    "\n",
    "# Creating a model, making the optimizer, defining loss\n",
    "model = nn.Linear(1, 1)\n",
    "optimizer = optim.SGD(model.parameters(), lr=0.05)\n",
    "loss_fn = nn.MSELoss()\n",
    "\n",
    "# Run training\n",
    "niter = 50\n",
    "for _ in range(0, niter):\n",
    "\toptimizer.zero_grad()\n",
    "\tpredictions = model(X)\n",
    "\tloss = loss_fn(predictions, t)\n",
    "\tloss.backward()\n",
    "\toptimizer.step()\n",
    "\n",
    "\tprint(\"-\" * 50)\n",
    "\tprint(\"error = {}\".format(loss.data[0]))\n",
    "\tprint(\"learned A = {}\".format(list(model.parameters())[0].data[0, 0]))\n",
    "\tprint(\"learned b = {}\".format(list(model.parameters())[1].data[0]))"
   ]
  }
 ]
}