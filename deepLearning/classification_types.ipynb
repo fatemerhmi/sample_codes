{
 "metadata": {
  "language_info": {
   "codemirror_mode": {
    "name": "ipython",
    "version": 3
   },
   "file_extension": ".py",
   "mimetype": "text/x-python",
   "name": "python",
   "nbconvert_exporter": "python",
   "pygments_lexer": "ipython3",
   "version": 3
  },
  "orig_nbformat": 2
 },
 "nbformat": 4,
 "nbformat_minor": 2,
 "cells": [
  {
   "source": [
    "# Types of Classification\n",
    "\n",
    "## Regression\n",
    "* single neuron (output layer)\n",
    "* Activation: RELU\n",
    "* Loss: MSE (Mean Square Error)\n",
    "\n",
    "## Binary Classification (Single Label Classification)\n",
    "* single neuron (output layer)\n",
    "* Activation: sigmoid\n",
    "* Loss: Binary Cross Entropy\n",
    "\n",
    "## Multi-class Classification\n",
    "* example: classifying the color of a dress (it can either be blue, red or green)\n",
    "* as many as the labels neuron (output layer)\n",
    "* Activation: softmax (argmax in numpy and torch is used often)\n",
    "* Loss: corss Entropy\n",
    "\n",
    "## Multi-label Classification\n",
    "* example: Movie Genere (Interstaller is both Advanture and Fantacy)\n",
    "* as many as the labels neuron (output layer)\n",
    "* Activation: sigmoid\n",
    "* Loss: Binary Cross Entropy\n",
    "\n",
    "## Multi-output Classification\n",
    "* example: chexpert paper"
   ],
   "cell_type": "markdown",
   "metadata": {}
  },
  {
   "cell_type": "code",
   "execution_count": null,
   "metadata": {},
   "outputs": [],
   "source": []
  }
 ]
}